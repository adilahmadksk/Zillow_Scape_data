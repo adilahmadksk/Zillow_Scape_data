{
 "cells": [
  {
   "cell_type": "code",
   "execution_count": null,
   "id": "77458ef6",
   "metadata": {},
   "outputs": [],
   "source": [
    "# Importing all libraries\n",
    "import pandas as pd\n",
    "import requests\n",
    "from bs4 import BeautifulSoup\n",
    "import re\n",
    "import json"
   ]
  },
  {
   "cell_type": "code",
   "execution_count": null,
   "id": "9b6e84bc",
   "metadata": {},
   "outputs": [],
   "source": [
    "# initiating user agent to avoid getting blocked\n",
    "header = {\"User-Agent\": \"Mozilla/5.0 (Windows NT 10.0; WOW64) AppleWebKit/537.36 (KHTML, like Gecko) Chrome/109.0.0.0 Safari/537.36\",\n",
    "  'referer': 'https://www.zillow.com/birmingham-al-35242/?searchQueryState=%7B%22isMapVisible%22%3Atrue%2C%22mapBounds%22%3A%7B%22north%22%3A33.567285464601%2C%22south%22%3A33.271558029139015%2C%22east%22%3A-86.45548668359373%2C%22west%22%3A-86.87846031640623%7D%2C%22filterState%22%3A%7B%22sort%22%3A%7B%22value%22%3A%22globalrelevanceex%22%7D%2C%22ah%22%3A%7B%22value%22%3Atrue%7D%7D%2C%22isListVisible%22%3Atrue%2C%22mapZoom%22%3A11%2C%22regionSelection%22%3A%5B%7B%22regionId%22%3A73409%2C%22regionType%22%3A7%7D%5D%2C%22pagination%22%3A%7B%7D%7D'\n",
    "\n",
    "}\n",
    "# passing our url\n",
    "url = 'https://www.zillow.com/birmingham-al-35242/?searchQueryState=%7B%22isMapVisible%22%3Atrue%2C%22mapBounds%22%3A%7B%22north%22%3A33.567285464601%2C%22south%22%3A33.271558029139015%2C%22east%22%3A-86.45548668359373%2C%22west%22%3A-86.87846031640623%7D%2C%22filterState%22%3A%7B%22sort%22%3A%7B%22value%22%3A%22globalrelevanceex%22%7D%2C%22ah%22%3A%7B%22value%22%3Atrue%7D%7D%2C%22isListVisible%22%3Atrue%2C%22mapZoom%22%3A11%2C%22regionSelection%22%3A%5B%7B%22regionId%22%3A73409%2C%22regionType%22%3A7%7D%5D%2C%22pagination%22%3A%7B%7D%7D'"
   ]
  },
  {
   "cell_type": "code",
   "execution_count": null,
   "id": "eab56ca8",
   "metadata": {},
   "outputs": [],
   "source": [
    "r = requests.get(url=url,headers=header)"
   ]
  },
  {
   "cell_type": "code",
   "execution_count": null,
   "id": "91af90bc",
   "metadata": {},
   "outputs": [],
   "source": [
    "# making the soup object\n",
    "soup= BeautifulSoup(r.text, 'html.parser')"
   ]
  },
  {
   "cell_type": "code",
   "execution_count": null,
   "id": "ccafe118",
   "metadata": {},
   "outputs": [],
   "source": [
    "soup.prettify()"
   ]
  },
  {
   "cell_type": "code",
   "execution_count": null,
   "id": "dfabaf38",
   "metadata": {},
   "outputs": [],
   "source": [
    "data = {'Address':[], 'Price':[], 'Features':[], 'agency':[],'Links':[]}"
   ]
  },
  {
   "cell_type": "code",
   "execution_count": null,
   "id": "49b2c795",
   "metadata": {},
   "outputs": [],
   "source": [
    "listingTitle = soup.find(class_=\"search-title\")\n",
    "addresses = soup.find_all(class_=\"StyledPropertyCardDataArea-c11n-8-84-3__sc-yipmu-0 jnnxAW property-card-link\")\n",
    "links = soup.find_all(\"a\", attrs={\"class\": \"StyledPropertyCardDataArea-c11n-8-84-3__sc-yipmu-0 jnnxAW property-card-link\"})\n",
    "prices = soup.find_all(\"span\",attrs = {\"class\":\"PropertyCardWrapper__StyledPriceLine-srp__sc-16e8gqd-1 iMKTKr\"})\n",
    "properties = soup.find_all(class_=\"StyledPropertyCardDataArea-c11n-8-84-3__sc-yipmu-0 dbDWjx\")\n",
    "agencies = soup.find_all(class_=\"StyledPropertyCardDataArea-c11n-8-84-3__sc-yipmu-0 jretvB\")\n"
   ]
  },
  {
   "cell_type": "code",
   "execution_count": null,
   "id": "59110b0b",
   "metadata": {},
   "outputs": [],
   "source": [
    "print(listingTitle.text)"
   ]
  },
  {
   "cell_type": "code",
   "execution_count": null,
   "id": "71bf8b44",
   "metadata": {},
   "outputs": [],
   "source": [
    "#data['Title'].append(listingTitle.text)"
   ]
  },
  {
   "cell_type": "code",
   "execution_count": null,
   "id": "9b9cbbf0",
   "metadata": {},
   "outputs": [],
   "source": [
    "for link in links:\n",
    "    #print(link[\"href\"])\n",
    "    data['Links'].append(link[\"href\"])"
   ]
  },
  {
   "cell_type": "code",
   "execution_count": null,
   "id": "5f642cee",
   "metadata": {},
   "outputs": [],
   "source": [
    "\n",
    "for adress in addresses:\n",
    "    #print(adress.text)\n",
    "    data['Address'].append(adress.text)"
   ]
  },
  {
   "cell_type": "code",
   "execution_count": null,
   "id": "53876a6d",
   "metadata": {},
   "outputs": [],
   "source": [
    "for price in prices:\n",
    "    #print(price.text)\n",
    "    data['Price'].append(price.text)"
   ]
  },
  {
   "cell_type": "code",
   "execution_count": null,
   "id": "bf774cc1",
   "metadata": {},
   "outputs": [],
   "source": [
    "for proper in properties:\n",
    "   # print(proper.text)\n",
    "    data['Features'].append(proper.text)"
   ]
  },
  {
   "cell_type": "code",
   "execution_count": null,
   "id": "1a89c1bf",
   "metadata": {},
   "outputs": [],
   "source": [
    "for agency in agencies:\n",
    "    #print(agency.text)\n",
    "    data['agency'].append(agency.text)"
   ]
  },
  {
   "cell_type": "code",
   "execution_count": null,
   "id": "2caaee0e",
   "metadata": {},
   "outputs": [],
   "source": [
    "df = pd.DataFrame.from_dict(data)\n",
    "df.to_csv(\"data.csv\", index=False)"
   ]
  },
  {
   "cell_type": "code",
   "execution_count": null,
   "id": "e3130761",
   "metadata": {},
   "outputs": [],
   "source": []
  },
  {
   "cell_type": "code",
   "execution_count": null,
   "id": "58bc2911",
   "metadata": {},
   "outputs": [],
   "source": []
  }
 ],
 "metadata": {
  "kernelspec": {
   "display_name": "Python 3 (ipykernel)",
   "language": "python",
   "name": "python3"
  },
  "language_info": {
   "codemirror_mode": {
    "name": "ipython",
    "version": 3
   },
   "file_extension": ".py",
   "mimetype": "text/x-python",
   "name": "python",
   "nbconvert_exporter": "python",
   "pygments_lexer": "ipython3",
   "version": "3.8.16"
  }
 },
 "nbformat": 4,
 "nbformat_minor": 5
}
